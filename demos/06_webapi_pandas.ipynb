{
 "cells": [
  {
   "cell_type": "markdown",
   "metadata": {},
   "source": [
    "# [NTDS'17] demo 6: web APIs & data analysis with pandas\n",
    "[ntds'17]: https://github.com/mdeff/ntds_2017\n",
    "\n",
    "[Michaël Defferrard](http://deff.ch), [EPFL LTS2](http://lts2.epfl.ch)"
   ]
  },
  {
   "cell_type": "markdown",
   "metadata": {},
   "source": [
    "## 1 Web API\n",
    "\n",
    "We already used the Twitter web API, albeit through a nice Python wrapper library. This time, we'll talk to an API directly. "
   ]
  },
  {
   "cell_type": "markdown",
   "metadata": {},
   "source": [
    "### 1.1 API doc\n",
    "\n",
    "The first step is always to look at the API documentation. Two questions to answer: i) how to construct the uniform resource locator (URL), and ii) how to interpret the returned data. For this tutorial and the third assignment: <https://freemusicarchive.org/api>. (Some of you might have referred to the [Twitter API doc](https://developer.twitter.com/en/docs) for the first assignment.)\n",
    "\n",
    "**Start simple**. Send an HTTP GET request with your web browser to the following uniform resource locator (URL): <https://freemusicarchive.org/recent.json>."
   ]
  },
  {
   "cell_type": "markdown",
   "metadata": {},
   "source": [
    "### 1.2 API calls\n",
    "\n",
    "A well-designed [HTTP](https://en.wikipedia.org/wiki/Http) library for Python is [request](http://python-requests.org)."
   ]
  },
  {
   "cell_type": "code",
   "execution_count": 1,
   "metadata": {},
   "outputs": [],
   "source": [
    "import requests"
   ]
  },
  {
   "cell_type": "markdown",
   "metadata": {},
   "source": [
    "Send an HTTP GET request, as our browser did above, and receive a `response` from the web server."
   ]
  },
  {
   "cell_type": "code",
   "execution_count": 2,
   "metadata": {},
   "outputs": [],
   "source": [
    "URL = 'https://freemusicarchive.org/recent.json'\n",
    "response = requests.get(URL)"
   ]
  },
  {
   "cell_type": "markdown",
   "metadata": {},
   "source": [
    "If the GET request worked, the server answers with a \"200 OK\", the standard response for successful HTTP requests. The request may fail and e.g. return the infamous \"404 Not Found\" error."
   ]
  },
  {
   "cell_type": "code",
   "execution_count": 3,
   "metadata": {},
   "outputs": [
    {
     "name": "stdout",
     "output_type": "stream",
     "text": [
      "200\n",
      "404\n"
     ]
    }
   ],
   "source": [
    "print(response.status_code)\n",
    "print(requests.get('https://www.epfl.ch/do_not_exist').status_code)"
   ]
  },
  {
   "cell_type": "markdown",
   "metadata": {},
   "source": [
    "### 1.3 Exercise\n"
   ]
  },
  {
   "cell_type": "markdown",
   "metadata": {},
   "source": [
    "First, as often, we need an API key for certain operations. Add the following to your `credentials.ini` file.\n",
    "```\n",
    "[freemusicarchive]\n",
    "api_key = MY-KEY\n",
    "```"
   ]
  },
  {
   "cell_type": "code",
   "execution_count": 4,
   "metadata": {},
   "outputs": [],
   "source": [
    "# Read the confidential api key.\n",
    "import configparser\n",
    "import os\n",
    "credentials = configparser.ConfigParser()\n",
    "credentials.read(os.path.join('..', 'credentials.ini'))\n",
    "api_key = credentials.get('freemusicarchive', 'api_key')"
   ]
  },
  {
   "cell_type": "markdown",
   "metadata": {},
   "source": [
    "Find the name of the artist which has an ID of 58."
   ]
  },
  {
   "cell_type": "code",
   "execution_count": 5,
   "metadata": {},
   "outputs": [
    {
     "name": "stdout",
     "output_type": "stream",
     "text": [
      "https://freemusicarchive.org/api/get/artists.json?artist_id=58&api_key=MN9IV2ZG9CJERJYQ\n"
     ]
    },
    {
     "data": {
      "text/plain": [
       "b'{\"title\":\"Free Music Archive - Artists\",\"message\":\"\",\"errors\":[],\"total\":\"1\",\"total_pages\":1,\"page\":1,\"limit\":20,\"dataset\":[{\"artist_id\":\"58\",\"artist_handle\":\"Andy_Hayleck\",\"artist_url\":\"http:\\\\/\\\\/freemusicarchive.org\\\\/music\\\\/Andy_Hayleck\\\\/\",\"artist_name\":\"Andy Hayleck\",\"artist_bio\":\"<p><span style=\\\\\"font-family:Arial, Helvetica, sans-serif;\\\\\">Electro-acoustic composer and instrumentalist Andy Hayleck                        is a quiet storm of the Baltimore experimental music scene,                        a virtuoso of sound whose range of highly developed projects                        and approaches is dizzying - spanning everything from jazz                        and ska guitar to musique concrete and the invention of                        new instruments and electro-acoustic systems. Hayleck \\\\\"enjoy[s]                        collaborating with animate and inanimate objects.\\\\\"                        In the animate realm, he has worked with free improvisors,                        drum\\'n\\'bass djs, pop and ska groups, experimental musical                        instrument builders and artists. In the inanimate realm                        he has worked with vibrating metal systems of one, two and                        three dimensions, air, water, and electricity.He currently                        plays in the ensemble Aerotrain (a group that performs compositions                        on instruments built by Neil Feather) and Heavy Things,                        as well as solo (primarily with his own<\\\\/span><span style=\\\\\"font-family:Arial, Helvetica, sans-serif;\\\\\">,                        highly original amplified gong\\\\/wire and live electronics). (-via the <a href=\\\\\"http:\\\\/\\\\/www.highzero.org\\\\/2003_site\\\\/the_musicians\\\\/index.htm\\\\\">High Zero Festival of Experimental Improvised Music<\\\\/a> website)<br \\\\/><\\\\/span><\\\\/p>\",\"artist_members\":null,\"artist_website\":\"http:\\\\/\\\\/www.ehserecords.com\\\\/ehse006.html\",\"artist_wikipedia_page\":null,\"artist_donation_url\":\"http:\\\\/\\\\/ehserecords.com\\\\/ehse006.html\",\"artist_contact\":\"Andy Hayleck\",\"artist_active_year_begin\":null,\"artist_active_year_end\":null,\"artist_related_projects\":null,\"artist_associated_labels\":null,\"artist_comments\":\"0\",\"artist_favorites\":\"1\",\"artist_date_created\":\"11\\\\/26\\\\/2008 12:46:38 AM\",\"artist_flattr_name\":null,\"artist_paypal_name\":null,\"artist_latitude\":\"39.290384800000\",\"artist_longitude\":\"-76.612189300000\",\"artist_image_file\":\"https:\\\\/\\\\/freemusicarchive.org\\\\/file\\\\/images\\\\/artists\\\\/Andy_Hayleck_-_2009113014422121.jpg\",\"artist_location\":\"Baltimore, MD\",\"tags\":[\"andy hayleck\"],\"artist_images\":[{\"image_id\":\"609\",\"image_file\":\"https:\\\\/\\\\/freemusicarchive.org\\\\/file\\\\/images\\\\/artists\\\\/Andy_Hayleck_-_2009113014422121.jpg\",\"image_title\":\"artists Image\",\"image_caption\":null,\"image_copyright\":null,\"image_source\":null}]}]}'"
      ]
     },
     "execution_count": 5,
     "metadata": {},
     "output_type": "execute_result"
    }
   ],
   "source": [
    "ARTIST_ID = 58\n",
    "\n",
    "BASE_URL = 'https://freemusicarchive.org/api/get/artists.json'\n",
    "url = '{}?artist_id={}&api_key={}'.format(BASE_URL, ARTIST_ID, api_key)\n",
    "print(url)\n",
    "requests.get(url).content"
   ]
  },
  {
   "cell_type": "markdown",
   "metadata": {},
   "source": [
    "## 2 JSON\n",
    "\n",
    "The goal of an HTTP GET request is to get data. The returned data might be HTML (as you see when you browse the web), XML, JSON, etc. Most web APIs nowadays return data formated as [JSON](https://en.wikipedia.org/wiki/JSON). As JSON data objects consist of key-value pairs and lists, the format is well modeled by Python dictionaries and lists."
   ]
  },
  {
   "cell_type": "code",
   "execution_count": 6,
   "metadata": {},
   "outputs": [],
   "source": [
    "data = response.json()"
   ]
  },
  {
   "cell_type": "markdown",
   "metadata": {},
   "source": [
    "The above call to `json()` interprets the returned data as being JSON and constructs Python dictionary and list objects out of it. In this case the top-level object is a dictionary, with some keys."
   ]
  },
  {
   "cell_type": "code",
   "execution_count": 7,
   "metadata": {},
   "outputs": [
    {
     "name": "stdout",
     "output_type": "stream",
     "text": [
      "<class 'dict'>\n",
      "dict_keys(['content', 'aFeeds', 'title', 'page_title', 'page_cache_key', 'oNav', 'nav_genres', 'nav_curators', 'bAuth', 'bManage', 'sSearch', 'aMailForm', 'aTracks'])\n"
     ]
    }
   ],
   "source": [
    "print(type(data))\n",
    "print(data.keys())"
   ]
  },
  {
   "cell_type": "markdown",
   "metadata": {},
   "source": [
    "Let's look at the value of the \"title\" key."
   ]
  },
  {
   "cell_type": "code",
   "execution_count": 8,
   "metadata": {},
   "outputs": [
    {
     "data": {
      "text/plain": [
       "'Free Music Archive'"
      ]
     },
     "execution_count": 8,
     "metadata": {},
     "output_type": "execute_result"
    }
   ],
   "source": [
    "data['title']"
   ]
  },
  {
   "cell_type": "markdown",
   "metadata": {},
   "source": [
    "Exploring the returned data is a good way to learn about the API. Let's get to what we were looking for, a list of recently added tracks."
   ]
  },
  {
   "cell_type": "code",
   "execution_count": 9,
   "metadata": {},
   "outputs": [
    {
     "name": "stdout",
     "output_type": "stream",
     "text": [
      "<class 'list'>\n",
      "dict_keys(['track_id', 'album_id', 'artist_id', 'agreement_id', 'track_title', 'track_handle', 'language_code', 'track_image_file', 'track_duration', 'track_number', 'track_disc_number', 'track_explicit', 'track_explicit_notes', 'track_upload_confirmed', 'track_file', 'track_file_type', 'track_bit_rate', 'track_sample_rate', 'track_encoding_software', 'track_original_id3', 'track_copyright_c', 'track_copyright_p', 'track_composer', 'track_lyricist', 'track_publisher', 'track_instrumental', 'track_information', 'track_notes', 'track_status_encoding', 'track_status', 'track_date_recorded', 'track_date_created', 'track_date_modified', 'track_date_deleted', 'track_date_published', 'track_comments', 'track_favorites', 'track_listens', 'track_downloads', 'track_interest', 'track_deleted', 'artist_name', 'album_title', 'license_id', 'license_parent_id', 'license_title', 'license_url', 'license_image_file', 'license_image_file_large', 'language_title', 'artist_published', 'artist_url', 'album_url', 'track_url', 'track_file_url', 'track_listen_url', 'track_user_favorite'])\n"
     ]
    }
   ],
   "source": [
    "print(type(data['aTracks']))\n",
    "print(data['aTracks'][0].keys())"
   ]
  },
  {
   "cell_type": "code",
   "execution_count": 10,
   "metadata": {},
   "outputs": [
    {
     "name": "stdout",
     "output_type": "stream",
     "text": [
      "explore deming\n",
      "Nmap\n",
      "#!!!!@{[€].............................--º«...............\n",
      "Black Hat Python\n",
      "Host: 192.168.0.1 () Ports: 139/open/tcp//netbios-ssn///\n"
     ]
    }
   ],
   "source": [
    "for track in data['aTracks'][:5]:\n",
    "    print(track['track_title'])"
   ]
  },
  {
   "cell_type": "markdown",
   "metadata": {},
   "source": [
    "### 2.1 Exercise"
   ]
  },
  {
   "cell_type": "markdown",
   "metadata": {},
   "source": [
    "Construct a list of the names of the 16 top-level genres. No need to call the API again, everything is in the above collected JSON data."
   ]
  },
  {
   "cell_type": "code",
   "execution_count": 11,
   "metadata": {},
   "outputs": [
    {
     "name": "stdout",
     "output_type": "stream",
     "text": [
      "['Blues', 'Classical', 'Country', 'Electronic', 'Experimental', 'Folk', 'Hip-Hop', 'Instrumental', 'International', 'Jazz', 'Novelty', 'Old-Time / Historic', 'Pop', 'Rock', 'Soul-RnB', 'Spoken']\n"
     ]
    }
   ],
   "source": [
    "genres = [genre['genre_title'] for genre in data['nav_genres']]\n",
    "\n",
    "assert type(genres) is list\n",
    "print(genres)"
   ]
  },
  {
   "cell_type": "markdown",
   "metadata": {},
   "source": [
    "## 3 Pandas: data analysis in Python\n",
    "\n",
    "While it might be sufficient to keep the data as lists and dictionaries, we often prefer to see data in a tabular format for analysis. A tabular format allows to make operations on the rows and columns, e.g. by taking a sum over prices. At a large scale, tabular data is stored in a [database](https://en.wikipedia.org/wiki/Database) (think the list of clients of a compagny). At a small scale, you probably used it in the form of an Excel spreadsheet. In Python, [pandas](https://pandas.pydata.org) is the most used data analysis tool. You can think of it as a *programmable spreadsheet*."
   ]
  },
  {
   "cell_type": "markdown",
   "metadata": {},
   "source": [
    "Let's first create a simple table, called a `DataFrame` in pandas' language. We can initialize the table with e.g. a Python list or a NumPy array. As our running example, let's say we want to do some accounting for our family and define the following schema: each row is a member of the family, the first column represents the revenue and the second the expenses. Sure enough, we can create a NumPy array."
   ]
  },
  {
   "cell_type": "code",
   "execution_count": 12,
   "metadata": {},
   "outputs": [
    {
     "name": "stdout",
     "output_type": "stream",
     "text": [
      "[[10 20]\n",
      " [30 30]\n",
      " [40 20]]\n"
     ]
    }
   ],
   "source": [
    "import numpy as np\n",
    "\n",
    "accounts = np.array([[10, 20], [30, 30], [40, 20]])\n",
    "print(accounts)"
   ]
  },
  {
   "cell_type": "markdown",
   "metadata": {},
   "source": [
    "But that's not very user friendly. Who's the second line already? Enter pandas."
   ]
  },
  {
   "cell_type": "code",
   "execution_count": 13,
   "metadata": {},
   "outputs": [
    {
     "data": {
      "text/html": [
       "<div>\n",
       "<style>\n",
       "    .dataframe thead tr:only-child th {\n",
       "        text-align: right;\n",
       "    }\n",
       "\n",
       "    .dataframe thead th {\n",
       "        text-align: left;\n",
       "    }\n",
       "\n",
       "    .dataframe tbody tr th {\n",
       "        vertical-align: top;\n",
       "    }\n",
       "</style>\n",
       "<table border=\"1\" class=\"dataframe\">\n",
       "  <thead>\n",
       "    <tr style=\"text-align: right;\">\n",
       "      <th></th>\n",
       "      <th>0</th>\n",
       "      <th>1</th>\n",
       "    </tr>\n",
       "  </thead>\n",
       "  <tbody>\n",
       "    <tr>\n",
       "      <th>0</th>\n",
       "      <td>10</td>\n",
       "      <td>20</td>\n",
       "    </tr>\n",
       "    <tr>\n",
       "      <th>1</th>\n",
       "      <td>30</td>\n",
       "      <td>30</td>\n",
       "    </tr>\n",
       "    <tr>\n",
       "      <th>2</th>\n",
       "      <td>40</td>\n",
       "      <td>20</td>\n",
       "    </tr>\n",
       "  </tbody>\n",
       "</table>\n",
       "</div>"
      ],
      "text/plain": [
       "    0   1\n",
       "0  10  20\n",
       "1  30  30\n",
       "2  40  20"
      ]
     },
     "execution_count": 13,
     "metadata": {},
     "output_type": "execute_result"
    }
   ],
   "source": [
    "import pandas as pd\n",
    "\n",
    "accounts = pd.DataFrame(accounts)\n",
    "accounts"
   ]
  },
  {
   "cell_type": "markdown",
   "metadata": {},
   "source": [
    "But this is not much more useful than our NumPy array. Let's e.g. name the rows and columns."
   ]
  },
  {
   "cell_type": "code",
   "execution_count": 14,
   "metadata": {},
   "outputs": [
    {
     "data": {
      "text/html": [
       "<div>\n",
       "<style>\n",
       "    .dataframe thead tr:only-child th {\n",
       "        text-align: right;\n",
       "    }\n",
       "\n",
       "    .dataframe thead th {\n",
       "        text-align: left;\n",
       "    }\n",
       "\n",
       "    .dataframe tbody tr th {\n",
       "        vertical-align: top;\n",
       "    }\n",
       "</style>\n",
       "<table border=\"1\" class=\"dataframe\">\n",
       "  <thead>\n",
       "    <tr style=\"text-align: right;\">\n",
       "      <th></th>\n",
       "      <th>revenues</th>\n",
       "      <th>expenditures</th>\n",
       "    </tr>\n",
       "    <tr>\n",
       "      <th>given name</th>\n",
       "      <th></th>\n",
       "      <th></th>\n",
       "    </tr>\n",
       "  </thead>\n",
       "  <tbody>\n",
       "    <tr>\n",
       "      <th>John</th>\n",
       "      <td>10</td>\n",
       "      <td>20</td>\n",
       "    </tr>\n",
       "    <tr>\n",
       "      <th>Mary</th>\n",
       "      <td>30</td>\n",
       "      <td>30</td>\n",
       "    </tr>\n",
       "    <tr>\n",
       "      <th>Alison</th>\n",
       "      <td>40</td>\n",
       "      <td>20</td>\n",
       "    </tr>\n",
       "  </tbody>\n",
       "</table>\n",
       "</div>"
      ],
      "text/plain": [
       "            revenues  expenditures\n",
       "given name                        \n",
       "John              10            20\n",
       "Mary              30            30\n",
       "Alison            40            20"
      ]
     },
     "execution_count": 14,
     "metadata": {},
     "output_type": "execute_result"
    }
   ],
   "source": [
    "accounts.columns = ['revenues', 'expenditures']\n",
    "accounts.index = ['John', 'Mary', 'Alison']\n",
    "accounts.index.name = 'given name'\n",
    "accounts"
   ]
  },
  {
   "cell_type": "markdown",
   "metadata": {},
   "source": [
    "Now if I want to know how much Alison spent this month, I don't have to remember that Alison is the third row and that the expenditures are the second column. I can query:"
   ]
  },
  {
   "cell_type": "code",
   "execution_count": 15,
   "metadata": {},
   "outputs": [
    {
     "data": {
      "text/plain": [
       "20"
      ]
     },
     "execution_count": 15,
     "metadata": {},
     "output_type": "execute_result"
    }
   ],
   "source": [
    "accounts.at['Alison', 'expenditures']"
   ]
  },
  {
   "cell_type": "markdown",
   "metadata": {},
   "source": [
    "We may want to compute the revenue of the entire familiy (note the similarity with the way you would do it in a spreadsheet):"
   ]
  },
  {
   "cell_type": "code",
   "execution_count": 16,
   "metadata": {},
   "outputs": [
    {
     "data": {
      "text/plain": [
       "80"
      ]
     },
     "execution_count": 16,
     "metadata": {},
     "output_type": "execute_result"
    }
   ],
   "source": [
    "accounts['revenues'].sum()"
   ]
  },
  {
   "cell_type": "markdown",
   "metadata": {},
   "source": [
    "Or the balance of each member:"
   ]
  },
  {
   "cell_type": "code",
   "execution_count": 17,
   "metadata": {},
   "outputs": [
    {
     "data": {
      "text/html": [
       "<div>\n",
       "<style>\n",
       "    .dataframe thead tr:only-child th {\n",
       "        text-align: right;\n",
       "    }\n",
       "\n",
       "    .dataframe thead th {\n",
       "        text-align: left;\n",
       "    }\n",
       "\n",
       "    .dataframe tbody tr th {\n",
       "        vertical-align: top;\n",
       "    }\n",
       "</style>\n",
       "<table border=\"1\" class=\"dataframe\">\n",
       "  <thead>\n",
       "    <tr style=\"text-align: right;\">\n",
       "      <th></th>\n",
       "      <th>revenues</th>\n",
       "      <th>expenditures</th>\n",
       "      <th>balance</th>\n",
       "    </tr>\n",
       "    <tr>\n",
       "      <th>given name</th>\n",
       "      <th></th>\n",
       "      <th></th>\n",
       "      <th></th>\n",
       "    </tr>\n",
       "  </thead>\n",
       "  <tbody>\n",
       "    <tr>\n",
       "      <th>John</th>\n",
       "      <td>10</td>\n",
       "      <td>20</td>\n",
       "      <td>-10</td>\n",
       "    </tr>\n",
       "    <tr>\n",
       "      <th>Mary</th>\n",
       "      <td>30</td>\n",
       "      <td>30</td>\n",
       "      <td>0</td>\n",
       "    </tr>\n",
       "    <tr>\n",
       "      <th>Alison</th>\n",
       "      <td>40</td>\n",
       "      <td>20</td>\n",
       "      <td>20</td>\n",
       "    </tr>\n",
       "  </tbody>\n",
       "</table>\n",
       "</div>"
      ],
      "text/plain": [
       "            revenues  expenditures  balance\n",
       "given name                                 \n",
       "John              10            20      -10\n",
       "Mary              30            30        0\n",
       "Alison            40            20       20"
      ]
     },
     "execution_count": 17,
     "metadata": {},
     "output_type": "execute_result"
    }
   ],
   "source": [
    "accounts['balance'] = accounts['revenues'] - accounts['expenditures']\n",
    "accounts"
   ]
  },
  {
   "cell_type": "markdown",
   "metadata": {},
   "source": [
    "Another quite useful feature is selection:"
   ]
  },
  {
   "cell_type": "code",
   "execution_count": 18,
   "metadata": {},
   "outputs": [
    {
     "data": {
      "text/html": [
       "<div>\n",
       "<style>\n",
       "    .dataframe thead tr:only-child th {\n",
       "        text-align: right;\n",
       "    }\n",
       "\n",
       "    .dataframe thead th {\n",
       "        text-align: left;\n",
       "    }\n",
       "\n",
       "    .dataframe tbody tr th {\n",
       "        vertical-align: top;\n",
       "    }\n",
       "</style>\n",
       "<table border=\"1\" class=\"dataframe\">\n",
       "  <thead>\n",
       "    <tr style=\"text-align: right;\">\n",
       "      <th></th>\n",
       "      <th>revenues</th>\n",
       "      <th>expenditures</th>\n",
       "      <th>balance</th>\n",
       "    </tr>\n",
       "    <tr>\n",
       "      <th>given name</th>\n",
       "      <th></th>\n",
       "      <th></th>\n",
       "      <th></th>\n",
       "    </tr>\n",
       "  </thead>\n",
       "  <tbody>\n",
       "    <tr>\n",
       "      <th>John</th>\n",
       "      <td>10</td>\n",
       "      <td>20</td>\n",
       "      <td>-10</td>\n",
       "    </tr>\n",
       "  </tbody>\n",
       "</table>\n",
       "</div>"
      ],
      "text/plain": [
       "            revenues  expenditures  balance\n",
       "given name                                 \n",
       "John              10            20      -10"
      ]
     },
     "execution_count": 18,
     "metadata": {},
     "output_type": "execute_result"
    }
   ],
   "source": [
    "accounts[accounts['balance'] < 0]"
   ]
  },
  {
   "cell_type": "markdown",
   "metadata": {},
   "source": [
    "Or sorting:"
   ]
  },
  {
   "cell_type": "code",
   "execution_count": 19,
   "metadata": {},
   "outputs": [
    {
     "data": {
      "text/html": [
       "<div>\n",
       "<style>\n",
       "    .dataframe thead tr:only-child th {\n",
       "        text-align: right;\n",
       "    }\n",
       "\n",
       "    .dataframe thead th {\n",
       "        text-align: left;\n",
       "    }\n",
       "\n",
       "    .dataframe tbody tr th {\n",
       "        vertical-align: top;\n",
       "    }\n",
       "</style>\n",
       "<table border=\"1\" class=\"dataframe\">\n",
       "  <thead>\n",
       "    <tr style=\"text-align: right;\">\n",
       "      <th></th>\n",
       "      <th>revenues</th>\n",
       "      <th>expenditures</th>\n",
       "      <th>balance</th>\n",
       "    </tr>\n",
       "    <tr>\n",
       "      <th>given name</th>\n",
       "      <th></th>\n",
       "      <th></th>\n",
       "      <th></th>\n",
       "    </tr>\n",
       "  </thead>\n",
       "  <tbody>\n",
       "    <tr>\n",
       "      <th>John</th>\n",
       "      <td>10</td>\n",
       "      <td>20</td>\n",
       "      <td>-10</td>\n",
       "    </tr>\n",
       "    <tr>\n",
       "      <th>Alison</th>\n",
       "      <td>40</td>\n",
       "      <td>20</td>\n",
       "      <td>20</td>\n",
       "    </tr>\n",
       "    <tr>\n",
       "      <th>Mary</th>\n",
       "      <td>30</td>\n",
       "      <td>30</td>\n",
       "      <td>0</td>\n",
       "    </tr>\n",
       "  </tbody>\n",
       "</table>\n",
       "</div>"
      ],
      "text/plain": [
       "            revenues  expenditures  balance\n",
       "given name                                 \n",
       "John              10            20      -10\n",
       "Alison            40            20       20\n",
       "Mary              30            30        0"
      ]
     },
     "execution_count": 19,
     "metadata": {},
     "output_type": "execute_result"
    }
   ],
   "source": [
    "accounts.sort_values('expenditures')"
   ]
  },
  {
   "cell_type": "markdown",
   "metadata": {},
   "source": [
    "Now it's time to save our data for archival, or to open it up in another tool."
   ]
  },
  {
   "cell_type": "code",
   "execution_count": 20,
   "metadata": {},
   "outputs": [],
   "source": [
    "accounts.to_csv(os.path.join('..', 'data', 'family_accounts.csv'))"
   ]
  },
  {
   "cell_type": "code",
   "execution_count": 21,
   "metadata": {},
   "outputs": [
    {
     "name": "stdout",
     "output_type": "stream",
     "text": [
      "given name,revenues,expenditures,balance\r\n",
      "John,10,20,-10\r\n",
      "Mary,30,30,0\r\n",
      "Alison,40,20,20\r\n"
     ]
    }
   ],
   "source": [
    "!cat ../data/family_accounts.csv\n",
    "# Windows: !type ..\\data\\family_accounts.csv"
   ]
  },
  {
   "cell_type": "markdown",
   "metadata": {},
   "source": [
    "These are very basic operations to give you an idea of what pandas is. More info in the [docs](http://pandas.pydata.org/pandas-docs/stable/). That library will certainly be useful for your projects."
   ]
  },
  {
   "cell_type": "markdown",
   "metadata": {},
   "source": [
    "### 3.1 Exercise\n",
    "\n",
    "Using pandas and the above data (i.e. `data['aTracks']`), find how many tracks each artist published."
   ]
  },
  {
   "cell_type": "code",
   "execution_count": 22,
   "metadata": {},
   "outputs": [
    {
     "data": {
      "text/html": [
       "<div>\n",
       "<style>\n",
       "    .dataframe thead tr:only-child th {\n",
       "        text-align: right;\n",
       "    }\n",
       "\n",
       "    .dataframe thead th {\n",
       "        text-align: left;\n",
       "    }\n",
       "\n",
       "    .dataframe tbody tr th {\n",
       "        vertical-align: top;\n",
       "    }\n",
       "</style>\n",
       "<table border=\"1\" class=\"dataframe\">\n",
       "  <thead>\n",
       "    <tr style=\"text-align: right;\">\n",
       "      <th></th>\n",
       "      <th>agreement_id</th>\n",
       "      <th>album_id</th>\n",
       "      <th>album_title</th>\n",
       "      <th>album_url</th>\n",
       "      <th>artist_id</th>\n",
       "      <th>artist_name</th>\n",
       "      <th>artist_published</th>\n",
       "      <th>artist_url</th>\n",
       "      <th>language_code</th>\n",
       "      <th>language_title</th>\n",
       "      <th>...</th>\n",
       "      <th>track_number</th>\n",
       "      <th>track_original_id3</th>\n",
       "      <th>track_publisher</th>\n",
       "      <th>track_sample_rate</th>\n",
       "      <th>track_status</th>\n",
       "      <th>track_status_encoding</th>\n",
       "      <th>track_title</th>\n",
       "      <th>track_upload_confirmed</th>\n",
       "      <th>track_url</th>\n",
       "      <th>track_user_favorite</th>\n",
       "    </tr>\n",
       "  </thead>\n",
       "  <tbody>\n",
       "    <tr>\n",
       "      <th>0</th>\n",
       "      <td>29393</td>\n",
       "      <td>24719</td>\n",
       "      <td>explore deming</td>\n",
       "      <td>http://freemusicarchive.org/music/The_Anchorit...</td>\n",
       "      <td>25291</td>\n",
       "      <td>The Anchorites</td>\n",
       "      <td>1</td>\n",
       "      <td>http://freemusicarchive.org/music/The_Anchorites/</td>\n",
       "      <td>None</td>\n",
       "      <td>None</td>\n",
       "      <td>...</td>\n",
       "      <td>1</td>\n",
       "      <td>{\"attached or linked picture\":{\"description\":\"...</td>\n",
       "      <td>None</td>\n",
       "      <td>44100</td>\n",
       "      <td>published</td>\n",
       "      <td>complete</td>\n",
       "      <td>explore deming</td>\n",
       "      <td>1</td>\n",
       "      <td>http://freemusicarchive.org/music/The_Anchorit...</td>\n",
       "      <td>0</td>\n",
       "    </tr>\n",
       "    <tr>\n",
       "      <th>1</th>\n",
       "      <td>29392</td>\n",
       "      <td>24718</td>\n",
       "      <td>Error</td>\n",
       "      <td>http://freemusicarchive.org/music/crk/Error_1916/</td>\n",
       "      <td>14023</td>\n",
       "      <td>.crk</td>\n",
       "      <td>1</td>\n",
       "      <td>http://freemusicarchive.org/music/crk/</td>\n",
       "      <td>None</td>\n",
       "      <td>None</td>\n",
       "      <td>...</td>\n",
       "      <td>5</td>\n",
       "      <td>{\"album\":\"Error\",\"artist\":\".CrK\",\"genre\":\"Brea...</td>\n",
       "      <td>None</td>\n",
       "      <td>44100</td>\n",
       "      <td>published</td>\n",
       "      <td>complete</td>\n",
       "      <td>Nmap</td>\n",
       "      <td>1</td>\n",
       "      <td>http://freemusicarchive.org/music/crk/Error_19...</td>\n",
       "      <td>0</td>\n",
       "    </tr>\n",
       "    <tr>\n",
       "      <th>2</th>\n",
       "      <td>29392</td>\n",
       "      <td>24718</td>\n",
       "      <td>Error</td>\n",
       "      <td>http://freemusicarchive.org/music/crk/Error_1916/</td>\n",
       "      <td>14023</td>\n",
       "      <td>.crk</td>\n",
       "      <td>1</td>\n",
       "      <td>http://freemusicarchive.org/music/crk/</td>\n",
       "      <td>None</td>\n",
       "      <td>None</td>\n",
       "      <td>...</td>\n",
       "      <td>4</td>\n",
       "      <td>{\"album\":\"Error\",\"artist\":\".CrK\",\"genre\":\"Brea...</td>\n",
       "      <td>None</td>\n",
       "      <td>44100</td>\n",
       "      <td>published</td>\n",
       "      <td>complete</td>\n",
       "      <td>#!!!!@{[€].............................--º«......</td>\n",
       "      <td>1</td>\n",
       "      <td>http://freemusicarchive.org/music/crk/Error_19...</td>\n",
       "      <td>0</td>\n",
       "    </tr>\n",
       "    <tr>\n",
       "      <th>3</th>\n",
       "      <td>29392</td>\n",
       "      <td>24718</td>\n",
       "      <td>Error</td>\n",
       "      <td>http://freemusicarchive.org/music/crk/Error_1916/</td>\n",
       "      <td>14023</td>\n",
       "      <td>.crk</td>\n",
       "      <td>1</td>\n",
       "      <td>http://freemusicarchive.org/music/crk/</td>\n",
       "      <td>None</td>\n",
       "      <td>None</td>\n",
       "      <td>...</td>\n",
       "      <td>3</td>\n",
       "      <td>{\"album\":\"Error\",\"artist\":\".CrK\",\"genre\":\"Brea...</td>\n",
       "      <td>None</td>\n",
       "      <td>44100</td>\n",
       "      <td>published</td>\n",
       "      <td>complete</td>\n",
       "      <td>Black Hat Python</td>\n",
       "      <td>1</td>\n",
       "      <td>http://freemusicarchive.org/music/crk/Error_19...</td>\n",
       "      <td>0</td>\n",
       "    </tr>\n",
       "    <tr>\n",
       "      <th>4</th>\n",
       "      <td>29392</td>\n",
       "      <td>24718</td>\n",
       "      <td>Error</td>\n",
       "      <td>http://freemusicarchive.org/music/crk/Error_1916/</td>\n",
       "      <td>14023</td>\n",
       "      <td>.crk</td>\n",
       "      <td>1</td>\n",
       "      <td>http://freemusicarchive.org/music/crk/</td>\n",
       "      <td>None</td>\n",
       "      <td>None</td>\n",
       "      <td>...</td>\n",
       "      <td>2</td>\n",
       "      <td>{\"album\":\"Error\",\"artist\":\".CrK\",\"genre\":\"Brea...</td>\n",
       "      <td>None</td>\n",
       "      <td>44100</td>\n",
       "      <td>published</td>\n",
       "      <td>complete</td>\n",
       "      <td>Host: 192.168.0.1 () Ports: 139/open/tcp//netb...</td>\n",
       "      <td>1</td>\n",
       "      <td>http://freemusicarchive.org/music/crk/Error_19...</td>\n",
       "      <td>0</td>\n",
       "    </tr>\n",
       "  </tbody>\n",
       "</table>\n",
       "<p>5 rows × 57 columns</p>\n",
       "</div>"
      ],
      "text/plain": [
       "  agreement_id album_id     album_title  \\\n",
       "0        29393    24719  explore deming   \n",
       "1        29392    24718           Error   \n",
       "2        29392    24718           Error   \n",
       "3        29392    24718           Error   \n",
       "4        29392    24718           Error   \n",
       "\n",
       "                                           album_url artist_id  \\\n",
       "0  http://freemusicarchive.org/music/The_Anchorit...     25291   \n",
       "1  http://freemusicarchive.org/music/crk/Error_1916/     14023   \n",
       "2  http://freemusicarchive.org/music/crk/Error_1916/     14023   \n",
       "3  http://freemusicarchive.org/music/crk/Error_1916/     14023   \n",
       "4  http://freemusicarchive.org/music/crk/Error_1916/     14023   \n",
       "\n",
       "      artist_name artist_published  \\\n",
       "0  The Anchorites                1   \n",
       "1            .crk                1   \n",
       "2            .crk                1   \n",
       "3            .crk                1   \n",
       "4            .crk                1   \n",
       "\n",
       "                                          artist_url language_code  \\\n",
       "0  http://freemusicarchive.org/music/The_Anchorites/          None   \n",
       "1             http://freemusicarchive.org/music/crk/          None   \n",
       "2             http://freemusicarchive.org/music/crk/          None   \n",
       "3             http://freemusicarchive.org/music/crk/          None   \n",
       "4             http://freemusicarchive.org/music/crk/          None   \n",
       "\n",
       "  language_title         ...         track_number  \\\n",
       "0           None         ...                    1   \n",
       "1           None         ...                    5   \n",
       "2           None         ...                    4   \n",
       "3           None         ...                    3   \n",
       "4           None         ...                    2   \n",
       "\n",
       "                                  track_original_id3 track_publisher  \\\n",
       "0  {\"attached or linked picture\":{\"description\":\"...            None   \n",
       "1  {\"album\":\"Error\",\"artist\":\".CrK\",\"genre\":\"Brea...            None   \n",
       "2  {\"album\":\"Error\",\"artist\":\".CrK\",\"genre\":\"Brea...            None   \n",
       "3  {\"album\":\"Error\",\"artist\":\".CrK\",\"genre\":\"Brea...            None   \n",
       "4  {\"album\":\"Error\",\"artist\":\".CrK\",\"genre\":\"Brea...            None   \n",
       "\n",
       "  track_sample_rate track_status track_status_encoding  \\\n",
       "0             44100    published              complete   \n",
       "1             44100    published              complete   \n",
       "2             44100    published              complete   \n",
       "3             44100    published              complete   \n",
       "4             44100    published              complete   \n",
       "\n",
       "                                         track_title track_upload_confirmed  \\\n",
       "0                                     explore deming                      1   \n",
       "1                                               Nmap                      1   \n",
       "2  #!!!!@{[€].............................--º«......                      1   \n",
       "3                                   Black Hat Python                      1   \n",
       "4  Host: 192.168.0.1 () Ports: 139/open/tcp//netb...                      1   \n",
       "\n",
       "                                           track_url track_user_favorite  \n",
       "0  http://freemusicarchive.org/music/The_Anchorit...                   0  \n",
       "1  http://freemusicarchive.org/music/crk/Error_19...                   0  \n",
       "2  http://freemusicarchive.org/music/crk/Error_19...                   0  \n",
       "3  http://freemusicarchive.org/music/crk/Error_19...                   0  \n",
       "4  http://freemusicarchive.org/music/crk/Error_19...                   0  \n",
       "\n",
       "[5 rows x 57 columns]"
      ]
     },
     "execution_count": 22,
     "metadata": {},
     "output_type": "execute_result"
    }
   ],
   "source": [
    "tracks = pd.DataFrame(data['aTracks'])\n",
    "assert type(tracks) is pd.DataFrame\n",
    "tracks.head()"
   ]
  },
  {
   "cell_type": "code",
   "execution_count": 23,
   "metadata": {},
   "outputs": [
    {
     "data": {
      "text/plain": [
       "Mike Durek        8\n",
       ".crk              5\n",
       "Scott Holmes      4\n",
       "Lobo Loco         2\n",
       "The Anchorites    1\n",
       "Name: artist_name, dtype: int64"
      ]
     },
     "execution_count": 23,
     "metadata": {},
     "output_type": "execute_result"
    }
   ],
   "source": [
    "tracks['artist_name'].value_counts()"
   ]
  }
 ],
 "metadata": {},
 "nbformat": 4,
 "nbformat_minor": 2
}
