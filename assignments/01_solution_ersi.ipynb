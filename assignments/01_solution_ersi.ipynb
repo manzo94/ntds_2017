{
 "cells": [
  {
   "cell_type": "markdown",
   "metadata": {},
   "source": [
    "# [NTDS'17] assignment 1: Solution\n",
    "[ntds'17]: https://github.com/mdeff/ntds_2017\n",
    "\n",
    "[Effrosyni Simou](http://lts4.epfl.ch/simou), [EPFL LTS4](http://lts4.epfl.ch)"
   ]
  },
  {
   "cell_type": "markdown",
   "metadata": {},
   "source": [
    "# Objective of Exercise\n",
    "The aim of this exercise is to learn how to create your own, real network using data collected from the Internet and then to discover some properties of the collected network. "
   ]
  },
  {
   "cell_type": "markdown",
   "metadata": {},
   "source": [
    "# Resources\n",
    "You might want to have a look at the following resources before starting:\n",
    "\n",
    "* [Twitter REST API](https://dev.twitter.com/rest/public)\n",
    "* [Tweepy Documentation](http://tweepy.readthedocs.io/en/v3.5.0/)\n",
    "* [Tutorial \"Mining Twitter data with Python\"](https://marcobonzanini.com/2015/03/02/mining-twitter-data-with-python-part-1/)"
   ]
  },
  {
   "cell_type": "markdown",
   "metadata": {},
   "source": [
    "# 1. Collect a Twitter Network"
   ]
  },
  {
   "cell_type": "markdown",
   "metadata": {},
   "source": [
    "In order to collect data from Twitter you will need to generate access tokens.  To do this you will need to register a [client application with Twitter](https://apps.twitter.com/). Once you are done you should have your tokens. You can now create a `credentials.ini` file as follows:\n",
    "```\n",
    "[twitter]\n",
    "consumer_key = YOUR-CONSUMER-KEY\n",
    "consumer_secret = YOUR-CONSUMER-SECRET\n",
    "access_token = YOUR-ACCESS-TOKEN\n",
    "access_secret = YOUR-ACCESS-SECRET\n",
    "```\n",
    "In this way you will have this information readily available to you. "
   ]
  },
  {
   "cell_type": "code",
   "execution_count": 1,
   "metadata": {
    "collapsed": true
   },
   "outputs": [],
   "source": [
    "%matplotlib inline\n",
    "\n",
    "import random\n",
    "import configparser\n",
    "import matplotlib.pyplot as plt\n",
    "import numpy as np\n",
    "from pprint import pprint\n",
    "import tweepy  # you will need to install tweepy first"
   ]
  },
  {
   "cell_type": "code",
   "execution_count": 2,
   "metadata": {
    "collapsed": false
   },
   "outputs": [],
   "source": [
    "# Read the confidential token.\n",
    "credentials = configparser.ConfigParser()\n",
    "credentials.read('credentials.ini')\n",
    "\n",
    "#authentication\n",
    "auth = tweepy.OAuthHandler(credentials.get('twitter', 'consumer_key'), credentials.get('twitter', 'consumer_secret'))\n",
    "auth.set_access_token(credentials.get('twitter', 'access_token'), credentials.get('twitter', 'access_secret'))\n",
    "\n",
    "#construct API instance\n",
    "#deal with rate limits and notify when delayed because of rate limits\n",
    "api = tweepy.API(auth,wait_on_rate_limit=True, wait_on_rate_limit_notify=True)"
   ]
  },
  {
   "cell_type": "markdown",
   "metadata": {},
   "source": [
    "Now you are all set up to start collecting data from Twitter! "
   ]
  },
  {
   "cell_type": "markdown",
   "metadata": {},
   "source": [
    "In this exercise we will construct a network with the following logic:\n",
    "\n",
    "1) We will chose a `user_id` in Twitter to be our first node. \n",
    "\n",
    "2) We will find (some) of the users who are both following `user_id` and are being followed by `user_id`. From now on we will call such users \"connections\" of `user_id`. We will place these user ids in a list called `first_nodes`. \n",
    "\n",
    "3) For every node in the list `first_nodes` we will then find (some) of the users who are following and are being followed by this node (aka the connections of this node). The user ids collected in this step will be placed in a list called `second_nodes`.\n",
    "\n",
    "4) The collection of the ids of all nodes (aka Twitter users) that we have collected so far will be placed in a list called `all_nodes`.\n",
    "\n",
    "5) Since we have only collected a subset of all possible \"connections\" for our nodes we have to check if there are any remaining inner connections that we have missed.\n",
    "\n",
    "The entire network is to be organized in a dictionary with entries that will have as key the Twitter id of the user (this is a number characterizing each user in Twitter) and as value the list of ids of his connections.\n",
    "\n",
    "So, let us begin. The first thing that you will have to do is to chose the node from which everything will start. I have chosen the Twitter account of [Applied Machine Learning Days](https://www.appliedmldays.org) that will take place in January 2018 in EPFL. You may change that if you wish to, but please make sure that the user you chose has both followers and friends and that he allows you to access this data."
   ]
  },
  {
   "cell_type": "code",
   "execution_count": 3,
   "metadata": {
    "collapsed": true
   },
   "outputs": [],
   "source": [
    "user = 'appliedmldays '\n",
    "user_id=api.get_user(user).id"
   ]
  },
  {
   "cell_type": "markdown",
   "metadata": {},
   "source": [
    "In the following cell write a function that takes as an argument the Twitter id of a user and returns a list with the **ids** of his connections. Take into account the case where a user does not allow you to access this information.\n",
    "\n",
    "**Reminder:** By connections we mean users that are both followers and friends of a given user."
   ]
  },
  {
   "cell_type": "code",
   "execution_count": 4,
   "metadata": {
    "collapsed": true
   },
   "outputs": [],
   "source": [
    "def find_connections(user_id):\n",
    "    followers = []\n",
    "    friends = []\n",
    "    try:\n",
    "        for page in tweepy.Cursor(api.followers_ids, user_id).pages():\n",
    "            followers = followers + page \n",
    "        for page in tweepy.Cursor(api.friends_ids, user_id).pages():\n",
    "            friends = friends + page \n",
    "        connections = list(set(friends).intersection(followers))\n",
    "    except tweepy.TweepError: #raise exception when you cannot access the followers of a user\n",
    "        # we get a tweep error when we can't view a user - skip them and move onto the next.\n",
    "            print('Could not view user {}, skipping...'.format(user_id))\n",
    "            connections = ['null']\n",
    "    return connections"
   ]
  },
  {
   "cell_type": "code",
   "execution_count": 5,
   "metadata": {
    "collapsed": false
   },
   "outputs": [
    {
     "name": "stdout",
     "output_type": "stream",
     "text": [
      "appliedmldays has 141 connections\n"
     ]
    }
   ],
   "source": [
    "first_connections = find_connections(user_id)\n",
    "print('{}has {} connections'.format(user, len(first_connections)))"
   ]
  },
  {
   "cell_type": "markdown",
   "metadata": {},
   "source": [
    "Collect your `first_nodes` and `second_nodes` and organize your collected nodes and their connections in the dictionary called `network`."
   ]
  },
  {
   "cell_type": "markdown",
   "metadata": {},
   "source": [
    "Hints:\n",
    "* Use `random.choice([1,3,4])` to randomly choose a number in `[1, 3, 4]`.\n",
    "* Use the `append` and `remove` methods to add and remove an element from a Python list.\n",
    "* The `pop` method removes the last item in the list."
   ]
  },
  {
   "cell_type": "code",
   "execution_count": 6,
   "metadata": {
    "collapsed": false
   },
   "outputs": [
    {
     "name": "stdout",
     "output_type": "stream",
     "text": [
      "0\n",
      "Rate limit reached. Sleeping for: 862\n",
      "Rate limit reached. Sleeping for: 895\n",
      "Rate limit reached. Sleeping for: 895\n",
      "Could not view user 530950089, skipping...\n",
      "Could not view user 716623862, skipping...\n",
      "Rate limit reached. Sleeping for: 890\n",
      "1\n",
      "Rate limit reached. Sleeping for: 895\n",
      "Could not view user 19888273, skipping...\n",
      "Could not view user 232974417, skipping...\n",
      "2\n",
      "Could not view user 51738744, skipping...\n",
      "Rate limit reached. Sleeping for: 864\n",
      "Rate limit reached. Sleeping for: 894\n",
      "3\n",
      "Rate limit reached. Sleeping for: 895\n",
      "Could not view user 19066345, skipping...\n",
      "4\n",
      "Rate limit reached. Sleeping for: 878\n",
      "Rate limit reached. Sleeping for: 896\n",
      "5\n",
      "Rate limit reached. Sleeping for: 896\n",
      "6\n",
      "Rate limit reached. Sleeping for: 890\n",
      "Rate limit reached. Sleeping for: 895\n",
      "Rate limit reached. Sleeping for: 896\n",
      "Could not view user 227423290, skipping...\n",
      "7\n",
      "Could not view user 404075638, skipping...\n",
      "Rate limit reached. Sleeping for: 870\n",
      "8\n",
      "Rate limit reached. Sleeping for: 878\n",
      "9\n"
     ]
    }
   ],
   "source": [
    "network = {}\n",
    "first_nodes = []\n",
    "second_nodes = []\n",
    "how_many = 10#This is the number of connections you are sampling. \n",
    "          #Keep small (e.g.3) for development, larger later (e.g. 10)\n",
    "n = min(how_many,len(first_connections))\n",
    "i=0\n",
    "while (i in range(0,n))&(first_connections != []):\n",
    "    current_id = random.choice(first_connections)\n",
    "    # remove the ID from the list, so we don't pick it again.\n",
    "    first_connections.remove(current_id)\n",
    "    first_nodes.append(current_id)\n",
    "    second_connections = find_connections(current_id)\n",
    "    '''avoid collecting: \n",
    "       i) protected users as first nodes \n",
    "       ii) nodes that are already collected in the second_nodes list as first nodes''' \n",
    "    if (second_connections==['null'])|(current_id in second_nodes):\n",
    "        first_nodes.pop()\n",
    "        print(i)\n",
    "        continue\n",
    "    else:\n",
    "        network[current_id] = []\n",
    "        j=0\n",
    "        m = min(how_many,len(second_connections))\n",
    "        while (j in range(0,m))&(second_connections != []):\n",
    "            new_current_id = random.choice(second_connections)\n",
    "            # remove the ID from the list, so we don't pick it again.\n",
    "            second_connections.remove(new_current_id)\n",
    "            second_nodes.append(new_current_id)\n",
    "            third_connections = find_connections(new_current_id)\n",
    "            '''avoid collecting: \n",
    "               i) protected users as second nodes \n",
    "               ii) the root node as a second node\n",
    "               ii) nodes that have already been collected in the first_nodes list as second nodes'''\n",
    "            if (third_connections==['null'])|(new_current_id==user_id)|(new_current_id in first_nodes):\n",
    "                second_nodes.pop()\n",
    "            else:\n",
    "                network[current_id].append(new_current_id)\n",
    "                j=j+1\n",
    "    \n",
    "    if user_id not in network[current_id]:\n",
    "        network[current_id].append(user_id) #make sure to include the root in the connections of the first nodes\n",
    "    print(i)\n",
    "    i = i+1"
   ]
  },
  {
   "cell_type": "markdown",
   "metadata": {},
   "source": [
    "**Be careful!** You should only keep a small value for the `how_many` parameter while you are developing your code. In order to answer to the questions you should raise the value of this parameter to `how_many=10` at least. This will take a while to execute because of the API rate limit (plan your time accordingly). You should also remember to submit your jupyter notebook with the **output shown for a large value of the `how_many` parameter**. "
   ]
  },
  {
   "cell_type": "code",
   "execution_count": 7,
   "metadata": {
    "collapsed": true
   },
   "outputs": [],
   "source": [
    "network[user_id] = first_nodes"
   ]
  },
  {
   "cell_type": "code",
   "execution_count": 8,
   "metadata": {
    "collapsed": false
   },
   "outputs": [
    {
     "name": "stdout",
     "output_type": "stream",
     "text": [
      "{382393: [15308423,\n",
      "          1008442225,\n",
      "          355626264,\n",
      "          29694990,\n",
      "          700746896680161280,\n",
      "          5439642,\n",
      "          155636227,\n",
      "          861230886,\n",
      "          24414798,\n",
      "          21695487,\n",
      "          763052115392593920],\n",
      " 14177696: [2564697607,\n",
      "            381054288,\n",
      "            487673211,\n",
      "            13348402,\n",
      "            2258911,\n",
      "            559966263,\n",
      "            900843938,\n",
      "            14704764,\n",
      "            2815170184,\n",
      "            3656369897,\n",
      "            763052115392593920],\n",
      " 22403036: [15106933,\n",
      "            206719125,\n",
      "            1408838665,\n",
      "            167056343,\n",
      "            299757170,\n",
      "            3240168873,\n",
      "            20191120,\n",
      "            353925814,\n",
      "            73039079,\n",
      "            49580432,\n",
      "            763052115392593920],\n",
      " 335986035: [9704802,\n",
      "             2234372946,\n",
      "             22425612,\n",
      "             317637840,\n",
      "             69726522,\n",
      "             2505279536,\n",
      "             907581515240034305,\n",
      "             790266440582434816,\n",
      "             3036329200,\n",
      "             21991908,\n",
      "             763052115392593920],\n",
      " 582038911: [52793695,\n",
      "             493106882,\n",
      "             587217646,\n",
      "             114699841,\n",
      "             2899469745,\n",
      "             600084235,\n",
      "             487317771,\n",
      "             90373079,\n",
      "             366507950,\n",
      "             785864403099017216,\n",
      "             763052115392593920],\n",
      " 917752062: [238252411,\n",
      "             987389154,\n",
      "             309680769,\n",
      "             199809792,\n",
      "             921651570,\n",
      "             763052115392593920],\n",
      " 2533212240: [427235323,\n",
      "              18247347,\n",
      "              255051048,\n",
      "              2318509094,\n",
      "              100478960,\n",
      "              1467737210,\n",
      "              237939868,\n",
      "              1960705284,\n",
      "              1069045039,\n",
      "              2852000613,\n",
      "              763052115392593920],\n",
      " 2647217844: [3304728893,\n",
      "              564855281,\n",
      "              111020569,\n",
      "              2332292953,\n",
      "              420636848,\n",
      "              2713107342,\n",
      "              2767062349,\n",
      "              142995842,\n",
      "              2575338618,\n",
      "              763052115392593920],\n",
      " 763052115392593920: [2533212240,\n",
      "                      22403036,\n",
      "                      14177696,\n",
      "                      335986035,\n",
      "                      2647217844,\n",
      "                      908033202173997056,\n",
      "                      917752062,\n",
      "                      802965874399477760,\n",
      "                      582038911,\n",
      "                      382393],\n",
      " 802965874399477760: [212201946,\n",
      "                      2591062848,\n",
      "                      841437061,\n",
      "                      1934613283,\n",
      "                      2247355933,\n",
      "                      22862179,\n",
      "                      518949783,\n",
      "                      3989101,\n",
      "                      4745719861,\n",
      "                      757546980033921024,\n",
      "                      763052115392593920],\n",
      " 908033202173997056: [91852037,\n",
      "                      2897988570,\n",
      "                      706885331224813568,\n",
      "                      2826829095,\n",
      "                      841437061,\n",
      "                      763052115392593920]}\n"
     ]
    }
   ],
   "source": [
    "pprint(network)"
   ]
  },
  {
   "cell_type": "code",
   "execution_count": 9,
   "metadata": {
    "collapsed": true
   },
   "outputs": [],
   "source": [
    "s = network.values()\n",
    "nodes = set(val for dic in s for val in dic) \n",
    "second_nodes = list(set(second_nodes)) #remove possible duplicates from second nodes\n",
    "all_nodes = list(nodes)"
   ]
  },
  {
   "cell_type": "code",
   "execution_count": 10,
   "metadata": {
    "collapsed": false
   },
   "outputs": [
    {
     "name": "stdout",
     "output_type": "stream",
     "text": [
      "There are 10 first hop nodes\n",
      "There are 88 second hop nodes\n",
      "There are overall 99 nodes in the collected network\n"
     ]
    }
   ],
   "source": [
    "print('There are {} first hop nodes'.format(len(first_nodes)))\n",
    "print('There are {} second hop nodes'.format(len(second_nodes)))\n",
    "print('There are overall {} nodes in the collected network'.format(len(all_nodes)))"
   ]
  },
  {
   "cell_type": "code",
   "execution_count": 11,
   "metadata": {
    "collapsed": true
   },
   "outputs": [],
   "source": [
    "# Initialize the dictionary entries for the second nodes \n",
    "for i in second_nodes:\n",
    "    network[i] = []"
   ]
  },
  {
   "cell_type": "markdown",
   "metadata": {},
   "source": [
    "Find the inner connections between your collected nodes that you might have missed because you sampled the connections."
   ]
  },
  {
   "cell_type": "code",
   "execution_count": 12,
   "metadata": {
    "collapsed": false
   },
   "outputs": [
    {
     "name": "stdout",
     "output_type": "stream",
     "text": [
      "0\n",
      "13\n",
      "1\n",
      "2\n",
      "2\n",
      "1\n",
      "3\n",
      "8\n",
      "4\n",
      "6\n",
      "5\n",
      "8\n",
      "6\n",
      "4\n",
      "7\n",
      "1\n",
      "8\n",
      "2\n",
      "9\n",
      "1\n",
      "10\n",
      "11\n",
      "Rate limit reached. Sleeping for: 878\n",
      "11\n",
      "1\n",
      "12\n",
      "1\n",
      "13\n",
      "5\n",
      "14\n",
      "5\n",
      "15\n",
      "6\n",
      "16\n",
      "1\n",
      "17\n",
      "1\n",
      "18\n",
      "2\n",
      "19\n",
      "2\n",
      "20\n",
      "2\n",
      "21\n",
      "2\n",
      "22\n",
      "11\n",
      "Rate limit reached. Sleeping for: 864\n",
      "23\n",
      "2\n",
      "24\n",
      "1\n",
      "25\n",
      "4\n",
      "26\n",
      "7\n",
      "27\n",
      "1\n",
      "28\n",
      "2\n",
      "29\n",
      "1\n",
      "30\n",
      "1\n",
      "31\n",
      "2\n",
      "32\n",
      "1\n",
      "33\n",
      "1\n",
      "34\n",
      "6\n",
      "35\n",
      "10\n",
      "36\n",
      "10\n",
      "37\n",
      "1\n",
      "Rate limit reached. Sleeping for: 857\n",
      "38\n",
      "2\n",
      "39\n",
      "2\n",
      "40\n",
      "4\n",
      "Rate limit reached. Sleeping for: 896\n",
      "41\n",
      "9\n",
      "42\n",
      "1\n",
      "43\n",
      "1\n",
      "44\n",
      "1\n",
      "45\n",
      "6\n",
      "Rate limit reached. Sleeping for: 881\n",
      "46\n",
      "2\n",
      "47\n",
      "7\n",
      "48\n",
      "5\n",
      "49\n",
      "1\n",
      "50\n",
      "2\n",
      "51\n",
      "5\n",
      "52\n",
      "1\n",
      "53\n",
      "1\n",
      "54\n",
      "1\n",
      "55\n",
      "5\n",
      "56\n",
      "5\n",
      "57\n",
      "1\n",
      "58\n",
      "3\n",
      "59\n",
      "3\n",
      "Rate limit reached. Sleeping for: 872\n",
      "60\n",
      "4\n",
      "61\n",
      "3\n",
      "62\n",
      "2\n",
      "63\n",
      "1\n",
      "64\n",
      "3\n",
      "65\n",
      "1\n",
      "66\n",
      "2\n",
      "67\n",
      "2\n",
      "68\n",
      "4\n",
      "69\n",
      "1\n",
      "70\n",
      "11\n",
      "71\n",
      "1\n",
      "72\n",
      "2\n",
      "73\n",
      "2\n",
      "74\n",
      "11\n",
      "Rate limit reached. Sleeping for: 878\n",
      "75\n",
      "2\n",
      "Rate limit reached. Sleeping for: 896\n",
      "76\n",
      "4\n",
      "77\n",
      "7\n",
      "Rate limit reached. Sleeping for: 896\n",
      "78\n",
      "3\n",
      "79\n",
      "1\n",
      "80\n",
      "1\n",
      "81\n",
      "15\n",
      "82\n",
      "1\n",
      "83\n",
      "1\n",
      "84\n",
      "1\n",
      "85\n",
      "2\n",
      "86\n",
      "17\n",
      "87\n",
      "3\n",
      "88\n",
      "1\n",
      "89\n",
      "2\n",
      "90\n",
      "1\n",
      "91\n",
      "14\n",
      "Rate limit reached. Sleeping for: 875\n",
      "92\n",
      "2\n",
      "93\n",
      "1\n",
      "94\n",
      "1\n",
      "95\n",
      "2\n",
      "Rate limit reached. Sleeping for: 897\n",
      "96\n",
      "4\n",
      "97\n",
      "1\n",
      "98\n",
      "1\n"
     ]
    }
   ],
   "source": [
    "for i in range(0,len(all_nodes)):\n",
    "    current_id = all_nodes[i]\n",
    "    connections = find_connections(current_id)\n",
    "    inner_connections = []+list(set(connections).intersection(set(all_nodes)))\n",
    "    network[current_id] = list(set(network[current_id]+inner_connections))\n",
    "    print(i)\n",
    "    print(len(inner_connections))"
   ]
  },
  {
   "cell_type": "markdown",
   "metadata": {},
   "source": [
    "# 2. Discover some of the properties of the collected network"
   ]
  },
  {
   "cell_type": "markdown",
   "metadata": {},
   "source": [
    "## 2.1 Adjacency matrix"
   ]
  },
  {
   "cell_type": "markdown",
   "metadata": {},
   "source": [
    "Congradulations! You have now created a dictionary that describes a real Twitter network!\n",
    "We now want to transform this dictionary into the adjacency (or weight) matrix that you learned about in your first class. "
   ]
  },
  {
   "cell_type": "code",
   "execution_count": 13,
   "metadata": {
    "collapsed": true
   },
   "outputs": [],
   "source": [
    "W = np.zeros([len(all_nodes),len(all_nodes)], dtype=int)"
   ]
  },
  {
   "cell_type": "code",
   "execution_count": 14,
   "metadata": {
    "collapsed": false
   },
   "outputs": [],
   "source": [
    "sorted_nodes = sorted(list(network.keys()))\n",
    "weights = {}\n",
    "for i in range(0,len(sorted_nodes)):\n",
    "    current_id = sorted_nodes[i]\n",
    "    weights[current_id] = sorted(network[current_id])\n"
   ]
  },
  {
   "cell_type": "code",
   "execution_count": 15,
   "metadata": {
    "collapsed": true
   },
   "outputs": [],
   "source": [
    "for i in range(0,len(sorted_nodes)):\n",
    "    current_id = sorted_nodes[i]\n",
    "    #print(current_id)\n",
    "    my_list = weights[current_id]\n",
    "    #print(my_list)\n",
    "    for j in my_list:\n",
    "        #print(j)\n",
    "        W[i,sorted_nodes.index(j)] = 1\n",
    "        W[sorted_nodes.index(j),i] = 1\n",
    "        "
   ]
  },
  {
   "cell_type": "markdown",
   "metadata": {},
   "source": [
    "Remember that a weight matrix should be symmetric. Check if it is:"
   ]
  },
  {
   "cell_type": "code",
   "execution_count": 16,
   "metadata": {
    "collapsed": false
   },
   "outputs": [
    {
     "data": {
      "text/plain": [
       "(array([], dtype=int64), array([], dtype=int64))"
      ]
     },
     "execution_count": 16,
     "metadata": {},
     "output_type": "execute_result"
    }
   ],
   "source": [
    "np.nonzero(W-W.transpose())"
   ]
  },
  {
   "cell_type": "markdown",
   "metadata": {},
   "source": [
    "**Question 1:**\n",
    "It might happen that $W \\neq W^{T} $ for some $(i,j)$. Explain why this might be the case."
   ]
  },
  {
   "cell_type": "markdown",
   "metadata": {},
   "source": [
    "**Your answer here:**\n",
    "\n",
    "Your weight matrix could be non-symmetric if:\n",
    "\n",
    "* You had not chosen all of your collected nodes to be non-protected users.\n",
    "* You had not used the Cursor object in order to collect all the connections of the nodes.\n",
    "\n",
    "In this implementation, the weight matrix is created in such a way that it will always be symmetric."
   ]
  },
  {
   "cell_type": "markdown",
   "metadata": {},
   "source": [
    "Impose your weight matrix to be symmetric."
   ]
  },
  {
   "cell_type": "code",
   "execution_count": 17,
   "metadata": {
    "collapsed": true
   },
   "outputs": [],
   "source": [
    "# Make W is symmetric\n",
    "bigger = W.transpose() > W"
   ]
  },
  {
   "cell_type": "code",
   "execution_count": 18,
   "metadata": {
    "collapsed": true
   },
   "outputs": [],
   "source": [
    "W = W - W*bigger + W.transpose()*bigger"
   ]
  },
  {
   "cell_type": "markdown",
   "metadata": {},
   "source": [
    "Plot the weight matrix of your collected network.\n",
    "\n",
    "Hint: use `plt.spy()` to visualize a matrix."
   ]
  },
  {
   "cell_type": "code",
   "execution_count": 19,
   "metadata": {
    "collapsed": false
   },
   "outputs": [
    {
     "data": {
      "text/plain": [
       "<matplotlib.text.Text at 0x10cc33438>"
      ]
     },
     "execution_count": 19,
     "metadata": {},
     "output_type": "execute_result"
    },
    {
     "data": {
      "image/png": "[encoded data removed]",
      "text/plain": [
       "<matplotlib.figure.Figure at 0x10c540f28>"
      ]
     },
     "metadata": {},
     "output_type": "display_data"
    }
   ],
   "source": [
    "plt.spy(W, markersize=1)\n",
    "plt.title('Adjacency Matrix W')"
   ]
  },
  {
   "cell_type": "markdown",
   "metadata": {},
   "source": [
    "**Question 2:**\n",
    "What is the maximum number of links $L_{max}$ in a network with $N$ nodes (where $N$ is the number of nodes in your collected network)? How many links $L$ are there in your collected network? Comment on how $L$ and $L_{max}$ compare."
   ]
  },
  {
   "cell_type": "code",
   "execution_count": 20,
   "metadata": {
    "collapsed": true
   },
   "outputs": [],
   "source": [
    "L = W.sum()/2"
   ]
  },
  {
   "cell_type": "code",
   "execution_count": 21,
   "metadata": {
    "collapsed": false
   },
   "outputs": [
    {
     "name": "stdout",
     "output_type": "stream",
     "text": [
      "176.0\n"
     ]
    }
   ],
   "source": [
    "print(L)"
   ]
  },
  {
   "cell_type": "markdown",
   "metadata": {},
   "source": [
    "**Your answer here:** The maximum number of links in a network with $N$ nodes is $L_{max}=N(N-1)/2$. This will be the case of a complete graph. Therefore, the maximum number of links for a network with $N=99$ nodes will be $L_{max}=4851$. The number of links in the collected network is $L=176$. We can see that $L << L_{max}$ and therefore we can conclude that the network is very sparse $L=O(N)$. "
   ]
  },
  {
   "cell_type": "markdown",
   "metadata": {},
   "source": [
    "## 2.2 Degrees distribution"
   ]
  },
  {
   "cell_type": "markdown",
   "metadata": {},
   "source": [
    "Plot a histogram of the degree distribution. "
   ]
  },
  {
   "cell_type": "code",
   "execution_count": 22,
   "metadata": {
    "collapsed": true
   },
   "outputs": [],
   "source": [
    "d = W.sum(axis=0)"
   ]
  },
  {
   "cell_type": "code",
   "execution_count": 23,
   "metadata": {
    "collapsed": false
   },
   "outputs": [
    {
     "name": "stdout",
     "output_type": "stream",
     "text": [
      "[17  2  2  1  1  1 15  1  1  1 10  3  1  1 14  1  2  2  1  1  3  1  9  3  5\n",
      "  2  5  2  2  4  1  2  2  1  1  2  5  1  2  2 11  1  5  1  3  6  1  2  2  2\n",
      "  1  2  4 11  1  1  4  1  1  6  1  4  4  5  1  7  1  7  2  5  6  1  1 11  1\n",
      "  4  3 10  7  4  1  1  2  2  2  1  1  3  1  2  8  8  1 13  2  1 11  2  6]\n"
     ]
    }
   ],
   "source": [
    "print(d)"
   ]
  },
  {
   "cell_type": "code",
   "execution_count": 24,
   "metadata": {
    "collapsed": false
   },
   "outputs": [
    {
     "data": {
      "image/png": "[encoded data removed]",
      "text/plain": [
       "<matplotlib.figure.Figure at 0x10c540208>"
      ]
     },
     "metadata": {},
     "output_type": "display_data"
    }
   ],
   "source": [
    "weights = np.ones_like(d)/float(len(all_nodes))\n",
    "plt.hist(d, weights = weights);"
   ]
  },
  {
   "cell_type": "markdown",
   "metadata": {},
   "source": [
    "**Question 3:** Comment on the plot. What do you observe? Would you expect a similar degree disribution in the complete Twitter network?"
   ]
  },
  {
   "cell_type": "markdown",
   "metadata": {},
   "source": [
    "**Your answer here:** We observe that the majority of the nodes in the collected network have a degree equal to 1. This is not the case for the whole Twitter network, but it is a result of the way that we collected the network. \n",
    "\n",
    "However, we can see that the network seems to have a degree distribution of a scale-free network, i.e. the degree distribution follows a power law. This will become more apparent as the value of the parameter ``how_many`` increases."
   ]
  },
  {
   "cell_type": "markdown",
   "metadata": {},
   "source": [
    "## 2.3 Average degree"
   ]
  },
  {
   "cell_type": "markdown",
   "metadata": {},
   "source": [
    "Calculate the average degree of your collected network."
   ]
  },
  {
   "cell_type": "code",
   "execution_count": 25,
   "metadata": {
    "collapsed": true
   },
   "outputs": [],
   "source": [
    "d_avg = np.sum(d)/len(d)"
   ]
  },
  {
   "cell_type": "code",
   "execution_count": 26,
   "metadata": {
    "collapsed": false
   },
   "outputs": [
    {
     "name": "stdout",
     "output_type": "stream",
     "text": [
      "3.55555555556\n"
     ]
    }
   ],
   "source": [
    "print(d_avg)"
   ]
  },
  {
   "cell_type": "markdown",
   "metadata": {},
   "source": [
    "## 2.4 Diameter of the collected network"
   ]
  },
  {
   "cell_type": "markdown",
   "metadata": {},
   "source": [
    "**Question 4:** What is the diameter of the collected network? Please justify."
   ]
  },
  {
   "cell_type": "markdown",
   "metadata": {},
   "source": [
    "**Your answer here:** The diameter is by definition the longest shortest path between two nodes in a network. \n",
    "\n",
    "Because of the way that we constructed the network, the longest possible paths are between two nodes of the list ``second_nodes``. \n",
    "\n",
    "Specifically, the path between any two nodes in the list ``second_nodes`` can be as in the following cases A, B, C and D :\n",
    "\n",
    "Case A:\n",
    "second node -> first node -> root -> first node -> second node\n",
    "\n",
    "Therefore, the length of the shortest path in this case will be equal to 4.\n",
    "\n",
    "Case B:\n",
    "It may happen that some of the first nodes will be connected and therefore the path between some of the second nodes will be:\n",
    "\n",
    "second node -> first node -> first node -> second node\n",
    "\n",
    "Therefore, the length of the shortest path in this case will be equal to 3.\n",
    "\n",
    "Case C:\n",
    "Some of the second nodes will obviously be connected through the same first node and therefore the path between them will be:\n",
    "\n",
    "second node -> first node -> second node\n",
    "\n",
    "Therefore, the length of the shortest path in this case will be equal to 2.\n",
    "\n",
    "Case D:\n",
    "Also it might happen that some of the second nodes will be directly connected to one another and therefore the path between those two second nodes will be second node -> second node.\n",
    "\n",
    "Therefore, the length of the shortest path in this case will be equal to 1.\n",
    "\n",
    "However, as we saw in Question 2, the collected network is very sparse and therefore at least one pair of second nodes will exist such that the shortest path between them is equal to 4. As a result, the diameter of the network will be $d=4$."
   ]
  },
  {
   "cell_type": "markdown",
   "metadata": {},
   "source": [
    "## 2.5 Pruning the collected network"
   ]
  },
  {
   "cell_type": "markdown",
   "metadata": {},
   "source": [
    "You might notice that some nodes have very few connections and hence our matrix is very sparse. Prune the collected network so that you keep only the nodes that have a degree that is greater than the average degree and plot the new adjacency matrix."
   ]
  },
  {
   "cell_type": "code",
   "execution_count": 27,
   "metadata": {
    "collapsed": false
   },
   "outputs": [],
   "source": [
    "Wpruned = W[d>d_avg][:,d>d_avg]"
   ]
  },
  {
   "cell_type": "code",
   "execution_count": 28,
   "metadata": {
    "collapsed": false
   },
   "outputs": [
    {
     "data": {
      "image/png": "[encoded data removed]",
      "text/plain": [
       "<matplotlib.figure.Figure at 0x10c32ae10>"
      ]
     },
     "metadata": {},
     "output_type": "display_data"
    }
   ],
   "source": [
    "plt.spy(Wpruned, markersize=1)\n",
    "plt.title('Adjacency Matrix W');"
   ]
  }
 ],
 "metadata": {
  "anaconda-cloud": {},
  "kernelspec": {
   "display_name": "Python [Root]",
   "language": "python",
   "name": "Python [Root]"
  },
  "language_info": {
   "codemirror_mode": {
    "name": "ipython",
    "version": 3
   },
   "file_extension": ".py",
   "mimetype": "text/x-python",
   "name": "python",
   "nbconvert_exporter": "python",
   "pygments_lexer": "ipython3",
   "version": "3.5.2"
  }
 },
 "nbformat": 4,
 "nbformat_minor": 1
}
