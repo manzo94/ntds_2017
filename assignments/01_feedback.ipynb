{
 "cells": [
  {
   "cell_type": "markdown",
   "metadata": {},
   "source": [
    "# [NTDS'17] assignment 1: Feedback\n",
    "[ntds'17]: https://github.com/mdeff/ntds_2017\n",
    "\n",
    "[Effrosyni Simou](http://lts4.epfl.ch/simou), [EPFL LTS4](http://lts4.epfl.ch)"
   ]
  },
  {
   "cell_type": "markdown",
   "metadata": {
    "collapsed": true
   },
   "source": [
    "**For the correction of the first assignment the following grading scheme was followed:**\n",
    "\n",
    "**1) find_connections function -> 20 points **\n",
    "\n",
    "Common mistakes included:\n",
    "* not using the Cursor object to iterate through pages\n",
    "* not accounting for protected users (if this was added in the network collection, points were removed only partially)\n",
    "\n",
    "** 2) collection of the Twitter network -> 30 points **\n",
    "\n",
    "Common mistakes included:\n",
    "* not handling protected users \n",
    "* not gathering different nodes in the first_nodes and the second_nodes list (only partial points extracted if the removal of duplicates was done efficiently in the next step)\n",
    "* adding protected users in the collected network and trying to recover their connections (not the best solution)\n",
    "    \n",
    "\n",
    "**3) finding the total number of nodes (removing duplicates) -> 5 points**\n",
    "\n",
    "Common mistakes included:\n",
    "* Not removing at all existing duplicates\n",
    "* Removing only duplicates from first_nodes and second_nodes but not removing the duplicates of the nodes that were present in both of these lists\n",
    "\n",
    "**4) finding all of the inner connections between the collected nodes -> 20 points**\n",
    "\n",
    "Common mistakes included:\n",
    "* Simply adding the symmetric connections of the ones you had already found.\n",
    "* Only finding the inner connections between second nodes (remember that inner connections can exist also between two first nodes for instance)\n",
    "\n",
    "**5) construct adjacency matrix W from the dictionary ``network`` -> 10 points**\n",
    "\n",
    "Almost everyone did perfectly in this part.\n",
    "\n",
    "**6) Question 1 -> 1 point**\n",
    "\n",
    "Good answers from most in this part.\n",
    "\n",
    "**7) Plot of adjacency matrix W -> 1 point**\n",
    "\n",
    "Everyone did perfectly in this part.\n",
    "\n",
    "**8) Question 2 -> 3 points**\n",
    "\n",
    "Almost everyone did perfectly in this part.\n",
    "\n",
    "**9) Plot of degree distribution -> 1 point**\n",
    "\n",
    "OK answers from most at this part.\n",
    "\n",
    "**10) Question 3 -> 3 points**\n",
    "\n",
    "OK answers from most at this part.\n",
    "\n",
    "**11) Average degree -> 1 point**\n",
    "\n",
    "Everyone did perfectly in this part.\n",
    "\n",
    "**12) Question 4 -> 3 points**\n",
    "\n",
    "Common mistake:\n",
    "\n",
    "* Some people said that the diameter was 2.\n",
    "\n",
    "**13) Network pruning -> 2 points**\n",
    "\n",
    "Almost everyone did perfectly in this part."
   ]
  },
  {
   "cell_type": "markdown",
   "metadata": {},
   "source": [
    "Overall, very good job everyone! Keep up with the good work :)"
   ]
  }
 ],
 "metadata": {
  "anaconda-cloud": {},
  "kernelspec": {
   "display_name": "Python [Root]",
   "language": "python",
   "name": "Python [Root]"
  },
  "language_info": {
   "codemirror_mode": {
    "name": "ipython",
    "version": 3
   },
   "file_extension": ".py",
   "mimetype": "text/x-python",
   "name": "python",
   "nbconvert_exporter": "python",
   "pygments_lexer": "ipython3",
   "version": "3.5.2"
  }
 },
 "nbformat": 4,
 "nbformat_minor": 1
}
